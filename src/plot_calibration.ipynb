{
 "cells": [
  {
   "cell_type": "code",
   "execution_count": null,
   "id": "23bae484",
   "metadata": {},
   "outputs": [],
   "source": [
    "import json\n",
    "import torch\n",
    "import time\n",
    "import checkpoint\n",
    "import numpy as np\n",
    "import importlib\n",
    "import matplotlib.pyplot as plt\n",
    "from smile import Datetime\n",
    "from data import load_dataset\n",
    "from generator import GeneratorIto\n",
    "from train_utils import train\n",
    "from train_utils import wrap_loss_func\n",
    "from train_utils import prepare_data\n",
    "from train_utils import checkpoint_func\n",
    "from vix import compute_VIX2_nested\n",
    "import glob"
   ]
  },
  {
   "cell_type": "code",
   "execution_count": null,
   "id": "7e686154",
   "metadata": {},
   "outputs": [],
   "source": [
    "TAU = torch.tensor(30 / 365, device=\"cuda:0\")"
   ]
  },
  {
   "cell_type": "code",
   "execution_count": null,
   "id": "f573d7d0",
   "metadata": {},
   "outputs": [],
   "source": [
    "date = \"2021/10/01\"\n",
    "MATURITIES = \"maturities2.json\"\n",
    "PARAMS = \"params_small.json\"\n",
    "MODEL = \"my_model_small\""
   ]
  },
  {
   "cell_type": "code",
   "execution_count": null,
   "id": "a766c31f",
   "metadata": {},
   "outputs": [],
   "source": [
    "with open(MATURITIES) as f:\n",
    "    maturities = json.load(f)\n",
    "\n",
    "with open(PARAMS) as f:\n",
    "    params = json.load(f)\n",
    "\n",
    "my_model = importlib.import_module(MODEL)\n",
    "\n",
    "data = load_dataset(date)\n",
    "smiles, maturities, fSPX = prepare_data(data, date, maturities)\n",
    "\n",
    "dt = torch.tensor(params[\"dt\"] / 365)\n",
    "GEN = GeneratorIto(dt, my_model.V_AND_MUY(my_model.MODEL), fSPX)\n",
    "\n",
    "model, epoch = checkpoint.load_last_checkpoint(my_model.MODEL)"
   ]
  },
  {
   "cell_type": "code",
   "execution_count": null,
   "id": "57852306",
   "metadata": {},
   "outputs": [],
   "source": [
    "files = glob.glob(\"checkpoints/spx_vix_small/*.ckpt\")\n",
    "def key(file):\n",
    "    loss = file.split(\"-\")[-1]\n",
    "    loss = loss[:-5]\n",
    "    return float(loss)\n",
    "file = min(files, key=key)\n",
    "file = files[50]\n",
    "file"
   ]
  },
  {
   "cell_type": "code",
   "execution_count": null,
   "id": "b07d4cf4",
   "metadata": {},
   "outputs": [],
   "source": [
    "model, epoch = checkpoint.load(file, my_model.MODEL)"
   ]
  },
  {
   "cell_type": "code",
   "execution_count": null,
   "id": "d4a35f6a",
   "metadata": {},
   "outputs": [],
   "source": [
    "t, T0, loss_func = wrap_loss_func(date, params, smiles, maturities, GEN, dt, fSPX)"
   ]
  },
  {
   "cell_type": "code",
   "execution_count": null,
   "id": "177b6795",
   "metadata": {},
   "outputs": [],
   "source": [
    "with torch.no_grad():\n",
    "    _, output = loss_func(0, trajectories=True)\n",
    "smiles = output[\"smiles\"]"
   ]
  },
  {
   "cell_type": "code",
   "execution_count": null,
   "id": "bcdabfaa",
   "metadata": {},
   "outputs": [],
   "source": [
    "sub_batch_size = 20_000\n",
    "batch_size_nested = 10_000\n",
    "k = 10"
   ]
  },
  {
   "cell_type": "code",
   "execution_count": null,
   "id": "87cbfcbd",
   "metadata": {},
   "outputs": [],
   "source": [
    "from bs import implied_vol\n",
    "from smile import Smile\n",
    "\n",
    "def compute_smile_vix_nested(maturity, VIX2_nested, vix_smile):\n",
    "    strikes = vix_smile.strikes\n",
    "    VIX = 100 * VIX2_nested.sqrt()\n",
    "    fVIX = VIX.mean()\n",
    "    t0 = torch.tensor(0.)\n",
    "    CVIX = (VIX - strikes).relu().mean(axis=0)\n",
    "    PVIX = (strikes - VIX).relu().mean(axis=0)\n",
    "    t = torch.tensor(maturity.t, device=\"cuda:0\")\n",
    "    IVIX = implied_vol(fVIX, t0, t, strikes, CVIX, PVIX).cuda()\n",
    "    smile = Smile(\"VIX model\", maturity, {\n",
    "        \"strikes\" : strikes,\n",
    "        \"fwd\" : fVIX,\n",
    "        \"fwd_ask\" : fVIX,\n",
    "        \"fwd_bid\" : fVIX,\n",
    "        \"mids\" : IVIX,\n",
    "        \"asks\" : IVIX,\n",
    "        \"bids\" : IVIX,\n",
    "        \"calls\" : CVIX,\n",
    "        \"puts\" : PVIX\n",
    "    })\n",
    "    return VIX, smile"
   ]
  },
  {
   "cell_type": "code",
   "execution_count": null,
   "id": "8c431bba",
   "metadata": {},
   "outputs": [],
   "source": [
    "for i, maturity in enumerate(maturities[\"all\"]):\n",
    "    if maturity in maturities[\"vix\"]:\n",
    "        print(\"Computing VIX for maturity =\", maturity)\n",
    "        XYi = output[\"XY\"][i + 1]\n",
    "        j = maturities[\"all\"].index(maturity.plus_30d())\n",
    "        Rij = output[\"R\"][j + 1] - output[\"R\"][i + 1]\n",
    "        VIX2_nested = compute_VIX2_nested(GEN, maturity, maturity.plus_30d(), \n",
    "                                          TAU, XYi, sub_batch_size, \n",
    "                                          batch_size_nested, k)\n",
    "        VIX_nested, smile_vix_nested = compute_smile_vix_nested(maturity, \n",
    "                                                                VIX2_nested, \n",
    "                                                                smiles[maturity][\"vix\"][\"market\"])\n",
    "        smiles[maturity][\"vix_nested\"] = {\n",
    "            \"model\" : smile_vix_nested,\n",
    "            \"market\" : smiles[maturity][\"vix\"]\n",
    "        }"
   ]
  },
  {
   "cell_type": "code",
   "execution_count": null,
   "id": "3a2a752b",
   "metadata": {},
   "outputs": [],
   "source": [
    "def plot(self, color=None, legend=True):\n",
    "    with torch.no_grad():\n",
    "        plt.plot(self.strikes.cpu(), self.mids.cpu(), color=color, \n",
    "                 label=f\"{self.name} mid implied vol.\")\n",
    "        plt.scatter(self.strikes.cpu(), self.mids.cpu(), marker=\"x\", s=20, color=color)\n",
    "\n",
    "        plt.fill_between(self.strikes.cpu(), self.bids.cpu(), self.asks.cpu(), color=color, alpha=0.5, label=\"bid-ask\")\n",
    "\n",
    "        plt.axvline(self.fwd.cpu(), color=color, linestyle=\"--\",\n",
    "                    label=f\"{self.name} future\")\n",
    "        plt.xlabel(\"Strike\")\n",
    "        plt.ylabel(\"Implied volatility\")\n",
    "        if legend:\n",
    "            plt.legend()\n",
    "        plt.title(self.name)"
   ]
  },
  {
   "cell_type": "code",
   "execution_count": null,
   "id": "014a197e",
   "metadata": {},
   "outputs": [],
   "source": [
    "def plot_smile(smile_model, smile_market):\n",
    "    strikes = smile_model.strikes.cpu()\n",
    "    with torch.no_grad():\n",
    "        plt.plot(strikes, smile_model.mids.cpu(), color=\"black\", label=f\"model implied vol\")\n",
    "        plt.scatter(strikes, smile_model.mids.cpu(), marker=\"x\", s=20, color=\"black\")\n",
    "        plt.axvline(smile_model.fwd.cpu(), color=\"black\", linestyle=\"--\", label=f\"model future\")\n",
    "\n",
    "        plt.plot(strikes, smile_market.mids.cpu(), color=\"red\", label=f\"market implied vol\")\n",
    "        plt.scatter(strikes, smile_market.mids.cpu(), marker=\"x\", s=20, color=\"red\")\n",
    "        plt.axvline(smile_market.fwd.cpu(), color=\"red\", linestyle=\"dashdot\", label=f\"market future\")\n",
    "        plt.fill_between(strikes, smile_market.bids.cpu(), smile_market.asks.cpu(), color=\"red\", alpha=0.5, label=\"market bid-ask\")\n",
    "\n",
    "        plt.xlabel(\"Strike\")\n",
    "        plt.ylabel(\"Implied volatility\")\n",
    "        plt.legend()\n",
    "        \n",
    "def plot_smile_vix(smile_model, smile_market, simle_lstsq):\n",
    "    strikes = smile_model.strikes.cpu()\n",
    "    with torch.no_grad():\n",
    "        plt.plot(strikes, smile_model.mids.cpu(), color=\"black\", label=f\"model implied vol (nested mc)\")\n",
    "        plt.scatter(strikes, smile_model.mids.cpu(), marker=\"x\", s=20, color=\"black\")\n",
    "        plt.axvline(smile_model.fwd.cpu(), color=\"black\", linestyle=\"--\", label=f\"model future (nested mc)\")\n",
    "\n",
    "        plt.plot(strikes, smile_market.mids.cpu(), color=\"red\", label=f\"market implied vol\")\n",
    "        plt.scatter(strikes, smile_market.mids.cpu(), marker=\"x\", s=20, color=\"red\")\n",
    "        plt.axvline(smile_market.fwd.cpu(), color=\"red\", linestyle=\"dashdot\", label=f\"market future\")\n",
    "        plt.fill_between(strikes, smile_market.bids.cpu(), smile_market.asks.cpu(), color=\"red\", alpha=0.5, label=\"market bid-ask\")\n",
    "\n",
    "        #plt.plot(strikes, simle_lstsq.mids.cpu(), color=\"green\", label=f\"model implied vol (lstsq)\")\n",
    "        #plt.scatter(strikes, simle_lstsq.mids.cpu(), marker=\"x\", s=20, color=\"green\")\n",
    "        #plt.axvline(simle_lstsq.fwd.cpu(), color=\"green\", linestyle=\"dashdot\", label=f\"model future (lstsq)\")\n",
    "        \n",
    "        plt.xlabel(\"Strike\")\n",
    "        plt.ylabel(\"Implied volatility\")\n",
    "        plt.legend()\n",
    "        \n",
    "        \n",
    "def plot_comparison(smile_lstsq, smile_nested):\n",
    "    strikes = smile_lstsq.strikes.cpu()\n",
    "    with torch.no_grad():\n",
    "        plt.plot(strikes, smile_nested.mids.cpu(), color=\"black\", label=f\"nested implied vol\")\n",
    "        plt.scatter(strikes, smile_nested.mids.cpu(), marker=\"x\", s=20, color=\"black\")\n",
    "        plt.axvline(smile_nested.fwd.cpu(), color=\"black\", linestyle=\"--\", label=f\"nested future\")\n",
    "\n",
    "        plt.plot(strikes, smile_lstsq.mids.cpu(), color=\"green\", label=f\"least squares vol\")\n",
    "        plt.scatter(strikes, smile_lstsq.mids.cpu(), marker=\"x\", s=20, color=\"green\")\n",
    "        plt.axvline(smile_lstsq.fwd.cpu(), color=\"green\", label=f\"least squares future\")\n",
    "\n",
    "        plt.xlabel(\"Strike\")\n",
    "        plt.ylabel(\"Implied volatility\")\n",
    "        plt.legend()"
   ]
  },
  {
   "cell_type": "code",
   "execution_count": null,
   "id": "1dba086b",
   "metadata": {
    "scrolled": false
   },
   "outputs": [],
   "source": [
    "for i, maturity in enumerate(maturities[\"spx\"]):\n",
    "    smile_model = smiles[maturity][\"spx\"][\"model\"]\n",
    "    smile_market = smiles[maturity][\"spx\"][\"market\"]\n",
    "    plot_smile(smile_model, smile_market)\n",
    "    plt.title(maturity)\n",
    "    plt.tight_layout()\n",
    "    str_date = maturity.datetime.strftime(\"%Y-%m-%d\")\n",
    "    #plt.savefig(f\"images/spx-{str_date}.pdf\")\n",
    "    plt.show()"
   ]
  },
  {
   "cell_type": "code",
   "execution_count": null,
   "id": "9b1b9ed5",
   "metadata": {
    "scrolled": false
   },
   "outputs": [],
   "source": [
    "for maturity in maturities[\"vix\"]:\n",
    "    smile_model = smiles[maturity][\"vix_nested\"][\"model\"]\n",
    "    smile_market = smiles[maturity][\"vix_nested\"][\"market\"][\"market\"]\n",
    "    smile_model_lstsq = smiles[maturity][\"vix\"][\"model\"]\n",
    "    plot_smile_vix(smile_model, smile_market, smile_model_lstsq)\n",
    "    plt.tight_layout()\n",
    "    plt.title(maturity)\n",
    "    str_date = maturity.datetime.strftime(\"%Y-%m-%d\")\n",
    "    plt.savefig(f\"images/vix-{str_date}.pdf\")\n",
    "    plt.show()"
   ]
  },
  {
   "cell_type": "code",
   "execution_count": null,
   "id": "eadf9848",
   "metadata": {
    "scrolled": false
   },
   "outputs": [],
   "source": [
    "for maturity in maturities[\"vix\"]:\n",
    "    smile_model = smiles[maturity][\"vix\"][\"model\"]\n",
    "    smile_market = smiles[maturity][\"vix\"][\"market\"]\n",
    "    plot_smile(smile_model, smile_market)\n",
    "    plt.title(maturity)\n",
    "    plt.tight_layout()\n",
    "    plt.show()"
   ]
  },
  {
   "cell_type": "code",
   "execution_count": null,
   "id": "ff36a97e",
   "metadata": {},
   "outputs": [],
   "source": [
    "xy = output[\"XY\"].cpu().numpy()[len(t) // 2, :5000]\n",
    "qmX, qmY = np.quantile(xy, axis=[0], q=0.01)\n",
    "qMX, qMY = np.quantile(xy, axis=[0], q=0.99)"
   ]
  },
  {
   "cell_type": "code",
   "execution_count": null,
   "id": "de06ff2d",
   "metadata": {},
   "outputs": [],
   "source": [
    "x, y = xy.T\n",
    "xy = xy[(qmX < x) & (x < qMX) & (qmY < y) & (y < qMY)]\n",
    "x, y = xy.T"
   ]
  },
  {
   "cell_type": "code",
   "execution_count": null,
   "id": "5ffcaec3",
   "metadata": {},
   "outputs": [],
   "source": [
    "from vix import tXYfy\n",
    "n_grid = 100\n",
    "gridX = torch.linspace(qmX, qMX, n_grid)\n",
    "gridY = torch.linspace(qmY, qMY, n_grid)\n",
    "gridXX, gridYY = torch.meshgrid([gridX, gridY], indexing=\"ij\")\n",
    "gridXY = torch.stack([gridXX.ravel(), gridYY.ravel()], axis=1)[None, :, :]\n",
    "\n",
    "t0 = Datetime(\"2021/11/13\", T0=T0.string)\n",
    "t0 = torch.tensor([t0.t])\n",
    "\n",
    "tXY = tXYfy(t0, gridXY, device=\"cuda:0\")[0]\n",
    "\n",
    "txy = tXYfy(t0, torch.tensor(xy[None, :]), device=\"cuda:0\")[0]\n",
    "\n",
    "with torch.no_grad():\n",
    "    Phi = model[\"nets\"][\"phi\"](tXY).cpu().numpy()\n",
    "    phi = model[\"nets\"][\"phi\"](txy).cpu().numpy()"
   ]
  },
  {
   "cell_type": "code",
   "execution_count": null,
   "id": "2a6c0fd5",
   "metadata": {},
   "outputs": [],
   "source": [
    "SigmaX, SigmaY, Rho, MuY = Phi[:, 0], Phi[:, 1], Phi[:, 2], Phi[:, [3]]\n",
    "Rho = np.tanh(Rho)\n",
    "SigmaX = 1 + np.tanh(SigmaX)\n",
    "SigmaY = 1. * (1 + np.tanh(SigmaY))\n",
    "\n",
    "sigmaX, sigmaY, rho, muY = phi[:, 0], phi[:, 1], phi[:, 2], phi[:, [3]]\n",
    "rho = np.tanh(rho)\n",
    "sigmaX = 1 + np.tanh(sigmaX)\n",
    "sigmaY = (1 + np.tanh(sigmaY))"
   ]
  },
  {
   "cell_type": "code",
   "execution_count": null,
   "id": "e23e30a5",
   "metadata": {},
   "outputs": [],
   "source": [
    "dlogSigmaXdX, dlogSigmaXdY = np.gradient(np.log(SigmaX).reshape((n_grid, n_grid)), gridX[1] - gridX[0], gridY[1] - gridY[0])\n",
    "dlogSigmaXdXdX, dlogSigmaXdXdY =  np.gradient(dlogSigmaXdX, gridX[1] - gridX[0], gridY[1] - gridY[0])"
   ]
  },
  {
   "cell_type": "code",
   "execution_count": null,
   "id": "99982432",
   "metadata": {},
   "outputs": [],
   "source": [
    "from mpl_toolkits.mplot3d import Axes3D\n",
    "cmhot = plt.get_cmap(\"viridis\")"
   ]
  },
  {
   "cell_type": "code",
   "execution_count": null,
   "id": "6764ed26",
   "metadata": {},
   "outputs": [],
   "source": [
    "fig = plt.figure(figsize=(9, 9))\n",
    "ax = fig.add_subplot(111, projection='3d', computed_zorder=False)\n",
    "ax.set_xlim3d(qmX, qMX)\n",
    "ax.set_ylim3d(qmY, qMY)\n",
    "ax.plot_surface(gridXX, gridYY, SigmaX.reshape((n_grid, n_grid)), alpha=1)\n",
    "ax.scatter3D(x, y, sigmaX, color=\"red\", s=2, marker=\"x\", alpha=0.5)\n",
    "ax.set_xlabel(\"x\", fontsize=20, labelpad=20)\n",
    "ax.set_ylabel(\"y\", fontsize=20, labelpad=20)\n",
    "plt.tight_layout()\n",
    "plt.savefig(\"images/sigmaX.pdf\")\n",
    "plt.show()"
   ]
  },
  {
   "cell_type": "code",
   "execution_count": null,
   "id": "af872499",
   "metadata": {},
   "outputs": [],
   "source": [
    "fig = plt.figure(figsize=(9, 9))\n",
    "ax = fig.add_subplot(111, projection='3d', computed_zorder=False)\n",
    "ax.set_xlim3d(qmX, qMX)\n",
    "ax.set_ylim3d(qmY, qMY)\n",
    "ax.plot_surface(gridXX, gridYY, SigmaY.reshape((n_grid, n_grid)), alpha=1)\n",
    "ax.scatter3D(x, y, sigmaY, color=\"red\", s=2, marker=\"x\", alpha=0.5)\n",
    "ax.set_xlabel(\"x\", fontsize=20, labelpad=20)\n",
    "ax.set_ylabel(\"y\", fontsize=20, labelpad=20)\n",
    "plt.tight_layout()\n",
    "plt.savefig(\"images/sigmaY.pdf\")\n",
    "\n",
    "plt.show()"
   ]
  },
  {
   "cell_type": "code",
   "execution_count": null,
   "id": "b3d90ff8",
   "metadata": {},
   "outputs": [],
   "source": [
    "fig = plt.figure(figsize=(9, 9))\n",
    "ax = fig.add_subplot(111, projection='3d', computed_zorder=False)\n",
    "ax.set_xlim3d(qmX, qMX)\n",
    "ax.set_ylim3d(qmY, qMY)\n",
    "ax.plot_surface(gridXX, gridYY, Rho.reshape((n_grid, n_grid)), alpha=1)\n",
    "ax.scatter3D(x, y, rho, color=\"red\", s=2, marker=\"x\", alpha=0.5)\n",
    "ax.set_xlabel(\"x\", fontsize=20, labelpad=20)\n",
    "ax.set_ylabel(\"y\", fontsize=20, labelpad=20)\n",
    "plt.tight_layout()\n",
    "plt.savefig(\"images/rho.pdf\")\n",
    "\n",
    "plt.show()"
   ]
  },
  {
   "cell_type": "code",
   "execution_count": null,
   "id": "0e7a6f5d",
   "metadata": {},
   "outputs": [],
   "source": [
    "Z = gridYY"
   ]
  },
  {
   "cell_type": "code",
   "execution_count": null,
   "id": "12477e5a",
   "metadata": {},
   "outputs": [],
   "source": [
    "fig = plt.figure(figsize=(9, 9))\n",
    "ax = fig.add_subplot(111, projection='3d', computed_zorder=False)\n",
    "ax.set_xlim3d(qmX, qMX)\n",
    "ax.set_ylim3d(qmY, qMY)\n",
    "ax.plot_surface(gridXX, gridYY, MuY.reshape((n_grid, n_grid)), alpha=1)\n",
    "ax.scatter3D(x, y, muY, color=\"red\", s=2, marker=\"x\", alpha=0.5)\n",
    "ax.set_xlabel(\"x\", fontsize=20, labelpad=20)\n",
    "ax.set_ylabel(\"y\", fontsize=20, labelpad=20)\n",
    "plt.tight_layout()\n",
    "ax.view_init(azim=30)\n",
    "#ax.plot_surface(gridXX, gridYY, 100gridYY, alpha=1)\n",
    "plt.savefig(\"images/muY_rotated.pdf\")\n",
    "plt.show()"
   ]
  },
  {
   "cell_type": "code",
   "execution_count": null,
   "id": "8779ab34",
   "metadata": {},
   "outputs": [],
   "source": [
    "from sklearn.linear_model import LinearRegression"
   ]
  },
  {
   "cell_type": "code",
   "execution_count": null,
   "id": "b6bea59f",
   "metadata": {},
   "outputs": [],
   "source": [
    "idx = (gridX ** 2).argmin()"
   ]
  },
  {
   "cell_type": "code",
   "execution_count": null,
   "id": "2a791cfc",
   "metadata": {},
   "outputs": [],
   "source": [
    "m = MuY.reshape((n_grid, n_grid))[idx, :]"
   ]
  },
  {
   "cell_type": "code",
   "execution_count": null,
   "id": "54934abd",
   "metadata": {},
   "outputs": [],
   "source": [
    "i = (m ** 2).argmin()\n",
    "slope = - (m[i] - m[i - 1]) / (gridY[1] - gridY[0])\n",
    "tangent = slope * (gridY[i] - gridY)"
   ]
  },
  {
   "cell_type": "code",
   "execution_count": null,
   "id": "b141822e",
   "metadata": {},
   "outputs": [],
   "source": [
    "plt.plot(gridY, m)\n",
    "plt.axvline(gridY[(m ** 2).argmin()])\n",
    "plt.plot(gridY, tangent, label=f\"MuY = - {slope:.4f} * (y - {gridY[i]:.4f})\")\n",
    "plt.legend()\n",
    "plt.savefig(\"mean-reversion-13-nov.pdf\")\n",
    "plt.show()"
   ]
  },
  {
   "cell_type": "code",
   "execution_count": null,
   "id": "1f86768e",
   "metadata": {},
   "outputs": [],
   "source": []
  }
 ],
 "metadata": {
  "kernelspec": {
   "display_name": "Python 3 (ipykernel)",
   "language": "/gnu/store/fyncfr1bs9mc2xlp7b5rn6akgpc76fxs-python-3.10.7/bin/python3",
   "name": "python3"
  },
  "language_info": {
   "codemirror_mode": {
    "name": "ipython",
    "version": 3
   },
   "file_extension": ".py",
   "mimetype": "text/x-python",
   "name": "python",
   "nbconvert_exporter": "python",
   "pygments_lexer": "ipython3",
   "version": "3.10.7"
  }
 },
 "nbformat": 4,
 "nbformat_minor": 5
}
