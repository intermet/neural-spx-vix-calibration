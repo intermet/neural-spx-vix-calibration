{
 "cells": [
  {
   "cell_type": "code",
   "execution_count": null,
   "id": "e483f508",
   "metadata": {},
   "outputs": [],
   "source": [
    "import json\n",
    "import torch\n",
    "from smile import Smile\n",
    "import matplotlib.pyplot as plt\n",
    "import numpy as np\n",
    "import glob\n",
    "import os\n",
    "from tqdm import tqdm\n",
    "plt.style.use(\"seaborn\")"
   ]
  },
  {
   "cell_type": "code",
   "execution_count": null,
   "id": "6f8b7ddd",
   "metadata": {},
   "outputs": [],
   "source": [
    "name = \"spx_vix_small_sept\"\n",
    "path = f\"/home/ziyed/clusters/della-gpu/neural-spx-vix-calibration/src/checkpoints/{name}\"\n",
    "\n",
    "files = glob.glob(f\"{path}/*.json\")\n",
    "files = sorted(files, key=os.path.getmtime)\n",
    "last = files[-1]"
   ]
  },
  {
   "cell_type": "code",
   "execution_count": null,
   "id": "49497c51",
   "metadata": {},
   "outputs": [],
   "source": [
    "last"
   ]
  },
  {
   "cell_type": "code",
   "execution_count": null,
   "id": "bcd0c046",
   "metadata": {},
   "outputs": [],
   "source": [
    "def get_smile(maturity, smile):\n",
    "    data = {\n",
    "        \"strikes\" : torch.tensor(smile[\"strikes\"]),\n",
    "        \"fwd\" : torch.tensor(smile[\"fwd\"]),\n",
    "        \"fwd_ask\" : torch.tensor(smile[\"fwd_ask\"]),\n",
    "        \"fwd_bid\" : torch.tensor(smile[\"fwd_bid\"]),\n",
    "        \"mids\" : torch.tensor(smile[\"mids\"]),\n",
    "        \"asks\" : torch.tensor(smile[\"asks\"]),\n",
    "        \"bids\" : torch.tensor(smile[\"bids\"]),\n",
    "        \"calls\" : torch.tensor(smile[\"calls\"]),\n",
    "        \"puts\" : torch.tensor(smile[\"puts\"])\n",
    "\n",
    "    }\n",
    "    return Smile(smile[\"name\"], maturity, data)"
   ]
  },
  {
   "cell_type": "code",
   "execution_count": null,
   "id": "cb21dc4b",
   "metadata": {},
   "outputs": [],
   "source": [
    "def plot(file):\n",
    "    with open(file) as f:\n",
    "        checkpoint = json.load(f)\n",
    "    maturities = checkpoint[\"smiles\"]\n",
    "    plt.figure(figsize=(10, 5 * len(maturities)))\n",
    "\n",
    "    for k, (maturity, data) in enumerate(checkpoint[\"smiles\"].items()):\n",
    "        for i, (instrument, smile) in enumerate(data.items()):\n",
    "            plt.subplot(len(maturities), 1, k + 1)\n",
    "            model, market = smile[\"model\"], smile[\"market\"]\n",
    "            model = get_smile(maturity, model)\n",
    "            market = get_smile(maturity, market)\n",
    "            model.plot(color=\"black\")\n",
    "            market.plot(color=\"red\")\n",
    "            plt.title(f\"{instrument.capitalize()} {maturity}\")\n",
    "    plt.show()"
   ]
  },
  {
   "cell_type": "code",
   "execution_count": null,
   "id": "596c65cc",
   "metadata": {
    "scrolled": false
   },
   "outputs": [],
   "source": [
    "plot(files[-1])"
   ]
  },
  {
   "cell_type": "code",
   "execution_count": null,
   "id": "e65846d0",
   "metadata": {},
   "outputs": [],
   "source": []
  }
 ],
 "metadata": {
  "kernelspec": {
   "display_name": "Python 3 (ipykernel)",
   "language": "/gnu/store/fyncfr1bs9mc2xlp7b5rn6akgpc76fxs-python-3.10.7/bin/python3",
   "name": "python3"
  },
  "language_info": {
   "codemirror_mode": {
    "name": "ipython",
    "version": 3
   },
   "file_extension": ".py",
   "mimetype": "text/x-python",
   "name": "python",
   "nbconvert_exporter": "python",
   "pygments_lexer": "ipython3",
   "version": "3.10.7"
  }
 },
 "nbformat": 4,
 "nbformat_minor": 5
}
